{
  "nbformat": 4,
  "nbformat_minor": 0,
  "metadata": {
    "colab": {
      "name": "Exercise.ipynb",
      "provenance": [],
      "collapsed_sections": [],
      "authorship_tag": "ABX9TyPjvVmmOcIAPMMUDmsE7qrM",
      "include_colab_link": true
    },
    "kernelspec": {
      "name": "python3",
      "display_name": "Python 3"
    },
    "language_info": {
      "name": "python"
    },
    "accelerator": "GPU"
  },
  "cells": [
    {
      "cell_type": "markdown",
      "metadata": {
        "id": "view-in-github",
        "colab_type": "text"
      },
      "source": [
        "<a href=\"https://colab.research.google.com/github/minjae960/CNN_Exercise/blob/main/Exercise.ipynb\" target=\"_parent\"><img src=\"https://colab.research.google.com/assets/colab-badge.svg\" alt=\"Open In Colab\"/></a>"
      ]
    },
    {
      "cell_type": "code",
      "metadata": {
        "id": "1I1htldC4Q8y"
      },
      "source": [
        "import numpy as np\n",
        "import tensorflow as tf\n",
        "import matplotlib.pyplot as plt\n",
        "import cv2\n",
        "import os\n",
        "import random"
      ],
      "execution_count": null,
      "outputs": []
    },
    {
      "cell_type": "markdown",
      "metadata": {
        "id": "E18BqzInrM_f"
      },
      "source": [
        "#Image Samples Pre-processing"
      ]
    },
    {
      "cell_type": "code",
      "metadata": {
        "id": "cWt8v4CVlDZI"
      },
      "source": [
        "# Download Image Samples from Github\n",
        "!git clone https://github.com/minjae960/CNN_Exercise.git"
      ],
      "execution_count": null,
      "outputs": []
    },
    {
      "cell_type": "code",
      "metadata": {
        "id": "nEbT_gZE6o0f"
      },
      "source": [
        "DIR = '/content/CNN_Exercise/CNT Sample'\n",
        "CATEGORIES = ['No', 'Sonic']"
      ],
      "execution_count": null,
      "outputs": []
    },
    {
      "cell_type": "code",
      "metadata": {
        "id": "cRUZRDX8-SiJ"
      },
      "source": [
        "CNT_IMG = []\n",
        "\n",
        "for category in CATEGORIES:\n",
        "    Path = os.path.join(DIR, category)\n",
        "\n",
        "    for file in os.listdir(Path):\n",
        "        # Change Image to Numpy array in grayscale\n",
        "        img_array = cv2.imread(os.path.join(Path, file), cv2.IMREAD_GRAYSCALE)\n",
        "        # Save image array, category as 0 or 1, and file name to CNT_IMG\n",
        "        CNT_IMG.append([img_array, CATEGORIES.index(category), file])"
      ],
      "execution_count": null,
      "outputs": []
    },
    {
      "cell_type": "code",
      "metadata": {
        "id": "focarVBYA14f"
      },
      "source": [
        "# Show Image Samples\n",
        "for i, data in enumerate(CNT_IMG):\n",
        "    img_array = data[0]\n",
        "    name = data[2]\n",
        "\n",
        "    plt.rcParams[\"figure.figsize\"] = (20,7)\n",
        "\n",
        "    plt.subplot(2,4,i+1)\n",
        "    plt.imshow(img_array, cmap='gray')\n",
        "    plt.title(name)\n",
        "    plt.show"
      ],
      "execution_count": null,
      "outputs": []
    },
    {
      "cell_type": "code",
      "metadata": {
        "id": "FsjgBXZEC7NB"
      },
      "source": [
        "# Four splits in row and six splits in column -> 24 small samples from one 1080 x 1920 image\n",
        "n_row = 4\n",
        "n_col = 6\n",
        "\n",
        "# Resize image to 256 x 256 pixels\n",
        "img_size = 256\n",
        "\n",
        "SMALL_IMG = []\n",
        "\n",
        "for img_array, label, name in CNT_IMG:\n",
        "    for i in range(n_row):\n",
        "        for k in range(n_col):\n",
        "            height = int(img_array.shape[0]/n_row)\n",
        "            width = int(img_array.shape[1]/n_col)\n",
        "\n",
        "            small_img = img_array[i*height:(i+1)*height, k*width:(k+1)*width] # Split -> 270 x 320\n",
        "\n",
        "            small_img = cv2.resize(small_img, (img_size, img_size)) # Resize -> 256 x 256\n",
        "\n",
        "            # Normalization\n",
        "            small_img = small_img / 255.0 \n",
        "\n",
        "            SMALL_IMG.append([small_img, label, name])"
      ],
      "execution_count": null,
      "outputs": []
    },
    {
      "cell_type": "code",
      "metadata": {
        "id": "0hg7sBv9Gx4b"
      },
      "source": [
        "# Show 10 Random Images out of 192(= 8 x 24) Small Image Samples\n",
        "\n",
        "RANDOM_IMG = random.sample(SMALL_IMG, 10)\n",
        "\n",
        "i=1\n",
        "\n",
        "for img_array, label, name in RANDOM_IMG:\n",
        "    \n",
        "\n",
        "    plt.rcParams[\"figure.figsize\"] = (20,7)\n",
        "\n",
        "    plt.subplot(2,5,i)\n",
        "    plt.imshow(img_array, cmap='gray')\n",
        "    plt.title(name)\n",
        "    plt.show\n",
        "\n",
        "    i+=1"
      ],
      "execution_count": null,
      "outputs": []
    },
    {
      "cell_type": "code",
      "metadata": {
        "id": "1Q6amWXvLUzC"
      },
      "source": [
        "# Shuffle images to be trained well\n",
        "\n",
        "random.shuffle(SMALL_IMG)"
      ],
      "execution_count": null,
      "outputs": []
    },
    {
      "cell_type": "code",
      "metadata": {
        "id": "ob-x35DWR7-i"
      },
      "source": [
        "# 160 Samples -> Train set\n",
        "# 32 Samples -> Test set\n",
        "\n",
        "Train_Data = SMALL_IMG[:160]\n",
        "Test_Data = SMALL_IMG[160:]"
      ],
      "execution_count": null,
      "outputs": []
    },
    {
      "cell_type": "code",
      "metadata": {
        "id": "ezLJGHSiSHjf"
      },
      "source": [
        "x_train = []\n",
        "y_train = []\n",
        "\n",
        "for img_array, label, name in Train_Data:\n",
        "    x_train.append(img_array)\n",
        "    y_train.append(label)\n",
        "\n",
        "# Change List to Numpy\n",
        "x_train = np.array(x_train).reshape(160, img_size, img_size, 1) # (instances, height, width, depth)\n",
        "y_train = np.array(y_train)\n",
        "\n",
        "print(x_train.shape, y_train.shape)"
      ],
      "execution_count": null,
      "outputs": []
    },
    {
      "cell_type": "markdown",
      "metadata": {
        "id": "cajbB9ApuU1M"
      },
      "source": [
        "#CNN Model"
      ]
    },
    {
      "cell_type": "code",
      "metadata": {
        "id": "T80sx-Y6NqQu"
      },
      "source": [
        "# Build TensorFlow model -> CNN for Logistic Regression -> 2 Class Classification\n",
        "tf.model = tf.keras.Sequential()\n",
        "\n",
        "# Conv -> ReLU -> Conv -> ReLU -> Maxpooling\n",
        "tf.model.add(tf.keras.layers.Conv2D(filters=64, input_shape=(img_size,img_size,1), kernel_size=(3,3), # filters = num of filters / kernel_size = (filter height, filter width)\n",
        "                                    kernel_initializer='glorot_normal',activation='relu', padding='same')) # padding = 'same' -> size of input = size of output\n",
        "tf.model.add(tf.keras.layers.Conv2D(filters=64, kernel_size=(3,3), \n",
        "                                    kernel_initializer='glorot_normal',activation='relu', padding='same')) \n",
        "tf.model.add(tf.keras.layers.MaxPooling2D(pool_size=(2,2))) # pool_size = (filter_size, stride)\n",
        "\n",
        "# Conv -> ReLU -> Conv -> ReLU -> Maxpooling\n",
        "tf.model.add(tf.keras.layers.Conv2D(filters=128, kernel_size=(3,3), kernel_initializer='glorot_normal', \n",
        "                                    activation='relu', padding='same'))\n",
        "tf.model.add(tf.keras.layers.Conv2D(filters=256, kernel_size=(3,3), kernel_initializer='glorot_normal', \n",
        "                                    activation='relu', padding='same'))\n",
        "tf.model.add(tf.keras.layers.MaxPooling2D(pool_size=(2,2)))\n",
        "\n",
        "# Fully Connected\n",
        "tf.model.add(tf.keras.layers.Flatten()) # 3D data -> 1D data\n",
        "tf.model.add(tf.keras.layers.Dense(units=1, kernel_initializer='glorot_normal', activation='sigmoid'))\n",
        "\n",
        "tf.model.compile(loss='binary_crossentropy', optimizer=tf.keras.optimizers.Adam(lr=0.001), metrics=['accuracy'])\n",
        "tf.model.summary()\n",
        "\n",
        "# Train\n",
        "tf.model.fit(x_train, y_train, validation_split=0.1, batch_size=100, epochs=40)"
      ],
      "execution_count": null,
      "outputs": []
    },
    {
      "cell_type": "markdown",
      "metadata": {
        "id": "MvhatBMTgSpZ"
      },
      "source": [
        "#Test CNN Model"
      ]
    },
    {
      "cell_type": "code",
      "metadata": {
        "id": "2PzKrwZcUz5T"
      },
      "source": [
        "# Test set\n",
        "x_test = []\n",
        "y_test = []\n",
        "\n",
        "for img_array, label, name in Test_Data:\n",
        "    x_test.append(img_array)\n",
        "    y_test.append(label)\n",
        "\n",
        "x_test = np.array(x_test).reshape(-1, img_size, img_size, 1)\n",
        "y_test = np.array(y_test)"
      ],
      "execution_count": null,
      "outputs": []
    },
    {
      "cell_type": "code",
      "metadata": {
        "id": "KY3rNLT1VcJF"
      },
      "source": [
        "# Accuracy\n",
        "Train_Accuracy = tf.model.evaluate(x_train, y_train)\n",
        "Test_Accuracy = tf.model.evaluate(x_test, y_test)"
      ],
      "execution_count": null,
      "outputs": []
    },
    {
      "cell_type": "code",
      "metadata": {
        "id": "JRtM0B00YrSS"
      },
      "source": [
        "# Predict Test Set\n",
        "Prediction = []\n",
        "\n",
        "for pred in tf.model.predict(x_test):\n",
        "    if pred > 0.5:\n",
        "        Prediction.append('Sonic')\n",
        "    else:\n",
        "        Prediction.append('No')"
      ],
      "execution_count": null,
      "outputs": []
    },
    {
      "cell_type": "code",
      "metadata": {
        "id": "c2zFts41TrD7"
      },
      "source": [
        "# Show First 10 Test Image Samples and Predictions\n",
        "\n",
        "i = 1\n",
        "\n",
        "for img_array, label, name in Test_Data[:10]:\n",
        "    \n",
        "    plt.rcParams[\"figure.figsize\"] = (20,7)\n",
        "\n",
        "    plt.subplot(2,5,i)\n",
        "    plt.imshow(img_array, cmap='gray')\n",
        "    plt.title(name)\n",
        "    plt.show\n",
        "\n",
        "    i+=1\n",
        "\n",
        "print(np.array(Prediction[:10]).reshape(2,5))"
      ],
      "execution_count": null,
      "outputs": []
    }
  ]
}